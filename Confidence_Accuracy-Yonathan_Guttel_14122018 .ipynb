{
 "cells": [
  {
   "cell_type": "code",
   "execution_count": 2,
   "metadata": {
    "collapsed": true
   },
   "outputs": [],
   "source": [
    "# Name :        Compare Algorithm's Confidence Level to its Performance\n",
    "# Description : The script test whether conversation transcripts confidence is correlated with their accuracy\n",
    "#               and visualize this correlation\n",
    "# Arguments :   A json file of the transcript with confidence level\n",
    "#               A txt file of the real transcript\n",
    "# Returning :   None\n",
    "# Author :      Yonathan Guttel <yesguttel@gmail.com\n",
    "# Date :        13.02.2018\n",
    "# Version :     1.0.0\n"
   ]
  },
  {
   "cell_type": "code",
   "execution_count": 3,
   "metadata": {
    "collapsed": true
   },
   "outputs": [],
   "source": [
    "# Import needed libraries\n",
    "import os\n",
    "import pandas as pd\n",
    "import json\n",
    "import requests\n",
    "import difflib\n",
    "import numpy as np\n",
    "import seaborn as sns; sns.set(color_codes=True)\n",
    "%matplotlib inline \n",
    "from scipy import stats"
   ]
  },
  {
   "cell_type": "code",
   "execution_count": 4,
   "metadata": {},
   "outputs": [],
   "source": [
    "# The \"element_json_extractor\" recieves the transcript json file and can extract \n",
    "# the 'word', 'confidence', 'type', 'from' or 'to' elements as a list "
   ]
  },
  {
   "cell_type": "code",
   "execution_count": 5,
   "metadata": {},
   "outputs": [],
   "source": [
    "# The \"element_json_extractor\" recieves the transcript json file and can extract \n",
    "# the 'word', 'confidence', 'type', 'from' or 'to' elements as a list \n",
    "\n",
    "def element_json_extractor (json, element): #element can be \n",
    "    transcripts_list=[]\n",
    "    # break json into parts\n",
    "    terms = len(json)\n",
    "    for term_n in range(terms):\n",
    "        # extract the transcript part from each part of the json\n",
    "        sub_json= json[term_n]['result'][0]['alternative'][0]['words']\n",
    "        elements =len (sub_json)\n",
    "        for element_n in range(elements):\n",
    "            # build a list of all the desired elements\n",
    "            transcripts_list.append(sub_json[element_n][element])\n",
    "    # returning the list\n",
    "    return  (transcripts_list)    "
   ]
  },
  {
   "cell_type": "code",
   "execution_count": 6,
   "metadata": {
    "collapsed": true
   },
   "outputs": [],
   "source": [
    "# The \"text_levenshtein_distance\" is computing the Levenshtein distance (the minimal edit distance) \n",
    "# between the two texts- in our case the predicted and true transcripts\n",
    "def text_levenshtein_distance (words_list,true_data):\n",
    "    d = difflib.Differ()\n",
    "    compare_list=list(d.compare( words_list,true_data))\n",
    "    return( compare_list)"
   ]
  },
  {
   "cell_type": "code",
   "execution_count": 7,
   "metadata": {},
   "outputs": [],
   "source": [
    "# The \"accuracy_confidence_correlation\" function is the main function of this scripts\n",
    "# it got two lists - a comparison list which is a product of the text_levenshtein_distance fun\n",
    "# and a confidence_list which is a list of the confidence level of each word in the json transcript text \n",
    "# (produced by the element_json_extractor function ). its has also a optional parameter TH_min_num,\n",
    "# which define what is the minimum number of occurances for a confidence level in the text in order to be \n",
    "# included in the analysis.\n",
    "# The function return a data frame with two columns, the first column ids confidence levels and contain only \n",
    "# rows for which the occurance is greater than TH_min_num, and a second column with a ratio of the true \n",
    "# prediction out of all the prediction for the confidence level\n",
    "\n",
    "def accuracy_confidence_correlation(compare_list,confidence_list, TH_min_num=0):\n",
    "    # create vector with all possible confidence level\n",
    "    confid_range=np.arange(0, 1.01, 0.01)\n",
    "    confid_list=[str(round(a,2)) for a in  confid_range]\n",
    "    #creates two list- one for true prediction and one for all prediction \n",
    "    correct_dic={el:0 for el in confid_list}\n",
    "    total_dic={el:0 for el in confid_list}\n",
    "    index=0\n",
    "    # count cases in which the transcript list fits the true text (\"-\") and when it doesn't (\" \")\n",
    "    for i in range(len(compare_list)):\n",
    "        if compare_list[i][0]==\" \" :\n",
    "            conf_level=str(float(confidence_list[index]))\n",
    "            total_dic[conf_level]=total_dic[conf_level]+1\n",
    "            index+=1\n",
    "        if compare_list[i][0]==\"-\" :\n",
    "            conf_level=str(float(confidence_list[index]))\n",
    "            correct_dic[conf_level]=correct_dic[conf_level]+1\n",
    "            total_dic[conf_level]=total_dic[conf_level]+1\n",
    "            index+=1\n",
    "    # get the indices of all the confidence level that are greater than TH_min_num\n",
    "    above_TH = np.where([(a>TH_min_num) for a in total_dic.values()])[0]\n",
    "    # slice the dictionaries and create arrays of the only the levels which are greater thanTH_min_num \n",
    "    correct = [list(correct_dic.values())[i]for i in np.where([(a>TH_min_num) for a in total_dic.values()])[0]]\n",
    "    total = [list(total_dic.values())[i]for i in np.where([(a>TH_min_num) for a in total_dic.values()])[0]]\n",
    "    accuracy_per = np.divide(correct,total)\n",
    "    confidence =confid_range [above_TH]\n",
    "    #built a final df from arrays\n",
    "    final_df = pd.DataFrame({'confidence':confidence, 'accuracy_per':accuracy_per})\n",
    "    return (final_df)       \n",
    "   "
   ]
  },
  {
   "cell_type": "code",
   "execution_count": 8,
   "metadata": {},
   "outputs": [],
   "source": [
    "#run the script\n",
    "#if __name__ == \"__main__\": # for other IDE"
   ]
  },
  {
   "cell_type": "code",
   "execution_count": 42,
   "metadata": {
    "collapsed": true
   },
   "outputs": [],
   "source": [
    "####################### Set parameters ######################\n",
    "# minimum number of occurances for a confidence level in order to be included in the analysis\n",
    "TH_min_num= 2 \n",
    "#should extra visulation features be presnted\n",
    "extra_vis =True\n",
    "# Set low confidence level for the HTML part\n",
    "TH_low_conf =0.9\n",
    "#set path\n",
    "path= \"\"\n"
   ]
  },
  {
   "cell_type": "code",
   "execution_count": 11,
   "metadata": {
    "collapsed": true
   },
   "outputs": [],
   "source": [
    "# Set WD (change it accordingly to where your files are located)\n",
    "os.chdir(path)"
   ]
  },
  {
   "cell_type": "code",
   "execution_count": 12,
   "metadata": {},
   "outputs": [],
   "source": [
    "# Upload data\n",
    "predicted_json_data = json.load(open(\"9149298224668811_capio_transcript.json\"))\n",
    "true_data= open(\"9149298224668811_true_transcript.txt\", \"r\").read().rstrip().split()"
   ]
  },
  {
   "cell_type": "code",
   "execution_count": 13,
   "metadata": {},
   "outputs": [],
   "source": [
    "# Extract words and conf level\n",
    "words_list = element_json_extractor (predicted_json_data, 'word')\n",
    "confidence_list = element_json_extractor (predicted_json_data, 'confidence')"
   ]
  },
  {
   "cell_type": "code",
   "execution_count": 14,
   "metadata": {},
   "outputs": [],
   "source": [
    "# Write transcript to file\n",
    "with open('predicted_transcript.txt', mode=\"w\") as outfile: \n",
    "    for word in words_list:\n",
    "        outfile.write(\"%s\\n\" % word)"
   ]
  },
  {
   "cell_type": "code",
   "execution_count": 15,
   "metadata": {},
   "outputs": [],
   "source": [
    "# Computing the Levenshtein distance (the minimal edit distance) between the predicted and true transcripts\n",
    "compare_list=text_levenshtein_distance (words_list,true_data)"
   ]
  },
  {
   "cell_type": "code",
   "execution_count": 16,
   "metadata": {},
   "outputs": [],
   "source": [
    "# Create a df for confidence and acuracy\n",
    "results = accuracy_confidence_correlation(compare_list,confidence_list,TH_min_num=TH_min_num)\n",
    "results = results[['confidence','accuracy_per']]"
   ]
  },
  {
   "cell_type": "code",
   "execution_count": 17,
   "metadata": {},
   "outputs": [
    {
     "data": {
      "image/png": "[encoded data removed]",
      "text/plain": [
       "<matplotlib.figure.Figure at 0x1116f6d8>"
      ]
     },
     "metadata": {},
     "output_type": "display_data"
    }
   ],
   "source": [
    "# Visualization\n",
    "\n",
    "slope, intercept, r_value, p_value, std_err = stats.linregress((results[['confidence']].iloc[:,0]),(results[['accuracy_per']].iloc[:,0]))\n",
    "\n",
    "ax = sns.regplot(x='confidence', y='accuracy_per', data=results,\n",
    "                line_kws={'label':\"y={0:.1f}x+{1:.1f}\".format(slope,intercept)})\n",
    "ax.legend()\n",
    "\n",
    "\n",
    "# if you wish to display the r squared and p.v.\n",
    "if  extra_vis==True:\n",
    "    ax.text(0.82,0.88, \"r squared={0:.1f} p.v.={1:.1f}\".format(r_value**2,p_value),\n",
    "        size='medium', color='black')\n",
    "\n",
    "    #if we remove confidence 1 (where there are many mistakes)\n",
    "    ax2 = sns.regplot(x='confidence', y='accuracy_per', data=results.iloc[:-1,:])"
   ]
  },
  {
   "cell_type": "code",
   "execution_count": 44,
   "metadata": {},
   "outputs": [],
   "source": [
    "# Save an HTML file that highlight low confidence words\n",
    "with open(\"transcript.html\", \"w\") as e:\n",
    "    for lines, conf in zip(words_list,confidence_list):\n",
    "        if conf<TH_low_conf:\n",
    "            e.write(\"<pre style=\\\"background-color:red;\\\">\" +lines+ \"</pre> <br>\")\n",
    "        else:\n",
    "            e.write(\"<pre>\" +lines+ \"</pre> <br>\")"
   ]
  },
  {
   "cell_type": "code",
   "execution_count": null,
   "metadata": {
    "collapsed": true
   },
   "outputs": [],
   "source": []
  }
 ],
 "metadata": {
  "kernelspec": {
   "display_name": "Python 3",
   "language": "python",
   "name": "python3"
  },
  "language_info": {
   "codemirror_mode": {
    "name": "ipython",
    "version": 3
   },
   "file_extension": ".py",
   "mimetype": "text/x-python",
   "name": "python",
   "nbconvert_exporter": "python",
   "pygments_lexer": "ipython3",
   "version": "3.6.1"
  }
 },
 "nbformat": 4,
 "nbformat_minor": 2
}
